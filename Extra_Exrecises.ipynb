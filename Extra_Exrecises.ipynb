{
  "nbformat": 4,
  "nbformat_minor": 0,
  "metadata": {
    "colab": {
      "name": "Extra Exrecises.ipynb",
      "provenance": [],
      "collapsed_sections": [],
      "toc_visible": true,
      "include_colab_link": true
    },
    "kernelspec": {
      "display_name": "Python 3",
      "name": "python3"
    }
  },
  "cells": [
    {
      "cell_type": "markdown",
      "metadata": {
        "id": "view-in-github",
        "colab_type": "text"
      },
      "source": [
        "<a href=\"https://colab.research.google.com/github/oraw/Authentication-Secrets/blob/master/Extra_Exrecises.ipynb\" target=\"_parent\"><img src=\"https://colab.research.google.com/assets/colab-badge.svg\" alt=\"Open In Colab\"/></a>"
      ]
    },
    {
      "cell_type": "markdown",
      "metadata": {
        "id": "h1D-X57jtltP"
      },
      "source": [
        "# Extra Exrecises"
      ]
    },
    {
      "cell_type": "markdown",
      "metadata": {
        "id": "Z0DuFLGOuDEL"
      },
      "source": [
        "# Exercise 1"
      ]
    },
    {
      "cell_type": "markdown",
      "metadata": {
        "id": "uJsmrU3vuILN"
      },
      "source": [
        "1.   Assign your age to a variable called \"my_age\" and the year of   today to a variable called \"current_year\".\n",
        "2.   Calculate your birth year and assign the value to a variable called birth_year\n",
        "3. Print the sentence \"My age is \\_\\_\\_ year old, and my Year of Birth is \\_\\_\\_.”\n",
        "4. Print the sentence, so that each part of it will be in a new line.\n",
        "\n"
      ]
    },
    {
      "cell_type": "code",
      "source": [
        "my_age=52\n",
        "current_year=2022\n",
        "\n",
        "birth_year=current_year-my_age\n",
        "\n",
        "s='My age is '+str(my_age)+' years old, and my Year of Birth is '+str(birth_year)\n",
        "\n",
        "print(s)"
      ],
      "metadata": {
        "id": "uy0WghunybKO",
        "outputId": "f4308ed5-4230-45dc-e34b-71f923220d73",
        "colab": {
          "base_uri": "https://localhost:8080/"
        }
      },
      "execution_count": 4,
      "outputs": [
        {
          "output_type": "stream",
          "name": "stdout",
          "text": [
            "My age is 52 years old, and my Year of Birth is 1970\n"
          ]
        }
      ]
    },
    {
      "cell_type": "markdown",
      "metadata": {
        "id": "ozkpFDEtwefq"
      },
      "source": [
        "# Exercise 2"
      ]
    },
    {
      "cell_type": "markdown",
      "metadata": {
        "id": "ArjTkF79wclU"
      },
      "source": [
        " Print the following text in a more readable fashion with proper newlines and tabs"
      ]
    },
    {
      "cell_type": "code",
      "metadata": {
        "id": "Pq8XOV-kxFk_",
        "outputId": "484997ce-71bf-47a7-9f5d-6f68d7f44e6d",
        "colab": {
          "base_uri": "https://localhost:8080/"
        }
      },
      "source": [
        "s = '''Europe:Spain:Madrid,Barcelona,France:Paris,Lyon,Asia:Japan:Tokyo,Hiroshima,China:Beijing,Shanghai'''\n",
        "\n",
        "o1=s.replace(',','\\n\\n')\n",
        "o2=o1.replace(':',':\\n')\n",
        "o3=o2.replace(':',':\\n')\n",
        "\n",
        "print(o3,sep=' ',end='\\n')"
      ],
      "execution_count": 21,
      "outputs": [
        {
          "output_type": "stream",
          "name": "stdout",
          "text": [
            "Europe:\n",
            "\n",
            "Spain:\n",
            "\n",
            "Madrid\n",
            "\n",
            "Barcelona\n",
            "\n",
            "France:\n",
            "\n",
            "Paris\n",
            "\n",
            "Lyon\n",
            "\n",
            "Asia:\n",
            "\n",
            "Japan:\n",
            "\n",
            "Tokyo\n",
            "\n",
            "Hiroshima\n",
            "\n",
            "China:\n",
            "\n",
            "Beijing\n",
            "\n",
            "Shanghai\n"
          ]
        }
      ]
    },
    {
      "cell_type": "markdown",
      "metadata": {
        "id": "qxYOstIux_Ra"
      },
      "source": [
        "# Exercise 3"
      ]
    },
    {
      "cell_type": "markdown",
      "metadata": {
        "id": "oyN_y6uJyJXm"
      },
      "source": [
        "1.   Assign your city and your country to the variables \"city\" and \"country\", respectively in **lowercase**.\n",
        "2.   Print the sentence \"My city is \\_\\_\\_ , and my country is \\_\\_\\_.”\n",
        "3. How many letters does your country have?\n",
        "4. Use the string method replace() to change all the first letter in country and city from lower case to upper case. \n",
        "5. Print again the sentence \"My city is \\_\\_\\_ , and my country is \\_\\_\\_.”\n",
        "\n"
      ]
    },
    {
      "cell_type": "code",
      "source": [
        "city='Raanana'\n",
        "country='Israel'\n",
        "\n",
        "s='My city is '+city.lower()+', and my country is '+country.lower()+'.'\n",
        "\n",
        "print(s,end='\\n')\n",
        "\n",
        "city_new=city[0].upper()+city[1:]\n",
        "country_new=country[0].upper()+country[1:]\n",
        "\n",
        "s_new='My city is '+city_new+', and my country is '+country_new+'.'\n",
        "\n",
        "print(s_new,end='\\n')"
      ],
      "metadata": {
        "id": "QGJ0lcloGtTv",
        "outputId": "33e17267-8e7d-445c-bad8-df9451e14df4",
        "colab": {
          "base_uri": "https://localhost:8080/"
        }
      },
      "execution_count": 31,
      "outputs": [
        {
          "output_type": "stream",
          "name": "stdout",
          "text": [
            "My city is raanana, and my country is israel.\n",
            "My city is Raanana, and my country is Israel.\n"
          ]
        }
      ]
    }
  ]
}