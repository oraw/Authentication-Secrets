{
  "nbformat": 4,
  "nbformat_minor": 0,
  "metadata": {
    "colab": {
      "name": "data_types_notebook.ipynb",
      "provenance": [],
      "collapsed_sections": [
        "ejzMds0jeF-B",
        "MK4QOmszeMtL",
        "fqgy3sjreYlH"
      ],
      "include_colab_link": true
    },
    "language_info": {
      "codemirror_mode": {
        "name": "ipython",
        "version": 3
      },
      "file_extension": ".py",
      "mimetype": "text/x-python",
      "name": "python",
      "nbconvert_exporter": "python",
      "pygments_lexer": "ipython3",
      "version": "3.7.1"
    },
    "kernelspec": {
      "display_name": "Python 3",
      "language": "python",
      "name": "python3"
    }
  },
  "cells": [
    {
      "cell_type": "markdown",
      "metadata": {
        "id": "view-in-github",
        "colab_type": "text"
      },
      "source": [
        "<a href=\"https://colab.research.google.com/github/oraw/Authentication-Secrets/blob/master/data_types_notebook.ipynb\" target=\"_parent\"><img src=\"https://colab.research.google.com/assets/colab-badge.svg\" alt=\"Open In Colab\"/></a>"
      ]
    },
    {
      "cell_type": "markdown",
      "metadata": {
        "id": "yETfKUidZpk9"
      },
      "source": [
        "# General"
      ]
    },
    {
      "cell_type": "markdown",
      "metadata": {
        "id": "zSxZzOCQZpk9"
      },
      "source": [
        "The program must know the data type of each variable. It has a significant influence on many techanical aspects:\n",
        "\n",
        "* Every data type \"supports\" different operations.\n",
        "* The same \"function\" may have different meaning for different data types.\n",
        "* Every data type is stored differently in the machine memory."
      ]
    },
    {
      "cell_type": "code",
      "metadata": {
        "id": "n1xUq-DxZpk-"
      },
      "source": [
        "num1 = 1.2\n",
        "num2 = 2.3\n",
        "str1 = 'micro'\n",
        "str2 = 'phone'\n",
        "\n",
        "# print(num1 + num2)\n",
        "# print(num1 * num2)\n",
        "# print(str1 + str2)\n",
        "# print (str1 * str2)  # ERROR!!!\n",
        "# print (num1 + str1)  # ERROR!!!"
      ],
      "execution_count": null,
      "outputs": []
    },
    {
      "cell_type": "markdown",
      "metadata": {
        "id": "0vdB98KxZplF"
      },
      "source": [
        "The type of the variable can be retrieved by the `type()` function."
      ]
    },
    {
      "cell_type": "markdown",
      "metadata": {
        "id": "nlC7Chz_UUA4"
      },
      "source": [
        "> **Note:** Python is a dynamic language, which means you don't have to specify the type of a variable."
      ]
    },
    {
      "cell_type": "code",
      "metadata": {
        "id": "FCyWmDzIZplG",
        "colab": {
          "base_uri": "https://localhost:8080/"
        },
        "outputId": "8db02aa9-769c-4407-f075-d6937c1006ff"
      },
      "source": [
        "print(type(num1))\n",
        "print(type(str1))"
      ],
      "execution_count": null,
      "outputs": [
        {
          "output_type": "stream",
          "name": "stdout",
          "text": [
            "<class 'float'>\n",
            "<class 'str'>\n"
          ]
        }
      ]
    },
    {
      "cell_type": "markdown",
      "metadata": {
        "id": "e1bNE_sBZplK"
      },
      "source": [
        "At this stage we will discuss four basic data types, but later in the course we will see many more data types and even create some new ones by ourselves."
      ]
    },
    {
      "cell_type": "markdown",
      "metadata": {
        "id": "BSj9q4ORZplL"
      },
      "source": [
        "# Numbers"
      ]
    },
    {
      "cell_type": "markdown",
      "metadata": {
        "id": "MlGEKJ4NZplM"
      },
      "source": [
        "We will work with two types of numbers:\n",
        "\n",
        "* integers - round numbers, which are very useful for enumeration.\n",
        "* float numbers - numbers with decimal point, which are used for accuracy."
      ]
    },
    {
      "cell_type": "code",
      "metadata": {
        "id": "2LmBYxQ0ZplO",
        "colab": {
          "base_uri": "https://localhost:8080/"
        },
        "outputId": "57676c83-ad4a-47fb-83b1-5a3fc2bda5b8"
      },
      "source": [
        "print(type(3))\n",
        "print(type(3.55454))"
      ],
      "execution_count": null,
      "outputs": [
        {
          "output_type": "stream",
          "name": "stdout",
          "text": [
            "<class 'int'>\n",
            "<class 'float'>\n"
          ]
        }
      ]
    },
    {
      "cell_type": "markdown",
      "metadata": {
        "id": "0BwYPkeBZplR"
      },
      "source": [
        "Python assumes that if a number is given as a round number then it is an integer. If a float is needed, then there are two ways to \"force\" it:\n",
        "* add a \"fictive\" decimal point\n",
        "* use the conversion function _float()_"
      ]
    },
    {
      "cell_type": "code",
      "metadata": {
        "id": "_W0j8xUwZplS",
        "colab": {
          "base_uri": "https://localhost:8080/"
        },
        "outputId": "9585e3e3-8526-49af-9b42-c534955bb596"
      },
      "source": [
        "print(type(3.0))\n",
        "print(type(float(3)))"
      ],
      "execution_count": null,
      "outputs": [
        {
          "output_type": "stream",
          "name": "stdout",
          "text": [
            "<class 'float'>\n",
            "<class 'float'>\n"
          ]
        }
      ]
    },
    {
      "cell_type": "markdown",
      "metadata": {
        "id": "EYlRWkjrZplW"
      },
      "source": [
        "Obviously, numbers support all the mathematical functions we expect them them to support. Note, however, that the basic Python includes only the most basic arithmetical operations, so things like trigonometric functions, exponential functions, etc. are not readily available."
      ]
    },
    {
      "cell_type": "code",
      "metadata": {
        "id": "ujlZBdGwZplX",
        "colab": {
          "base_uri": "https://localhost:8080/"
        },
        "outputId": "8cb25888-e2d0-4130-d858-75cf09ab9b5f"
      },
      "source": [
        "a = 3\n",
        "b = 17\n",
        "\n",
        "print(\"a =\", a, \", b =\", b)\n",
        "print(\"a + b =\", a + b)\n",
        "print(\"a - b =\", a - b)\n",
        "print(\"a * b = \", a * b)\n",
        "print(\"b / a =\", b / a)\n",
        "print(\"b mod a =\", b % a)\n",
        "print(\"b^a =\", b**a)\n",
        "print(\"max(a, b, 12) =\", max(a, b, 12))"
      ],
      "execution_count": null,
      "outputs": [
        {
          "output_type": "stream",
          "name": "stdout",
          "text": [
            "a = 3 , b = 17\n",
            "a + b = 20\n",
            "a - b = -14\n",
            "a * b =  51\n",
            "b / a = 5.666666666666667\n",
            "b mod a = 2\n",
            "b^a = 4913\n",
            "max(a, b, 12) = 17\n"
          ]
        }
      ]
    },
    {
      "cell_type": "markdown",
      "metadata": {
        "id": "jB093_rVbUzN"
      },
      "source": [
        "> **Your turn:** Evaluate $\\frac{3^{4}-4^{3}}{2^{5}-5^{2}}$"
      ]
    },
    {
      "cell_type": "code",
      "source": [
        "(3**4-4**3)/(2**5-5**2)"
      ],
      "metadata": {
        "colab": {
          "base_uri": "https://localhost:8080/"
        },
        "id": "b_N3i_ux6w5Z",
        "outputId": "a06edcd8-253a-4a94-a7f9-59fe31cd9bf6"
      },
      "execution_count": null,
      "outputs": [
        {
          "output_type": "execute_result",
          "data": {
            "text/plain": [
              "2.4285714285714284"
            ]
          },
          "metadata": {},
          "execution_count": 12
        }
      ]
    },
    {
      "cell_type": "markdown",
      "metadata": {
        "id": "_paTYoPkZplj"
      },
      "source": [
        "# Strings"
      ]
    },
    {
      "cell_type": "markdown",
      "metadata": {
        "id": "9mITOwJnZplk"
      },
      "source": [
        "String is a **sequence** of **characters**, and they are defined by one of two methods:\n",
        "\n",
        "* wrapping them with either single-quotes or double-quotes (it doesn't matter)\n",
        "* Applying the _str()_ function on an object."
      ]
    },
    {
      "cell_type": "code",
      "metadata": {
        "id": "DU6JRAeHZpll",
        "colab": {
          "base_uri": "https://localhost:8080/"
        },
        "outputId": "d6711731-9e93-4a67-b01c-388a87ad99eb"
      },
      "source": [
        "str1 = 'This is a string'\n",
        "str2 = \"This is also a string\"\n",
        "str3 = str(12.34)\n",
        "\n",
        "print(type(str1), type(str2), type(str3))"
      ],
      "execution_count": null,
      "outputs": [
        {
          "output_type": "stream",
          "name": "stdout",
          "text": [
            "<class 'str'> <class 'str'> <class 'str'>\n"
          ]
        }
      ]
    },
    {
      "cell_type": "markdown",
      "metadata": {
        "id": "7E2Y5Ax_Zplo"
      },
      "source": [
        "Being a sequence, the characters of a string have **index**, that gives direct access to any part of the string. The indexing system is not intuitive at first, but I you'll get it very fast. The picture below explains the indexation.\n",
        "\n",
        "<center><img src=\"https://developers.google.com/edu/python/images/hello.png\" alt=\"Python sequence indexation\" style=\"width: 200px;\"/></center>\n",
        "\n",
        "Two things to note:\n",
        "\n",
        "* The concept of **negative indexing** is very useful when you want to deal with the end of the string, but you don't know its length. This is the case, for example, when you want to know the type of a file bsed on the file name.\n",
        "* The indexing system also supports **slicing** using the '**:**' sign. The slicing excludes the last specified index."
      ]
    },
    {
      "cell_type": "code",
      "metadata": {
        "id": "kWkjn57EZplr",
        "colab": {
          "base_uri": "https://localhost:8080/"
        },
        "outputId": "c21efa75-ba09-44aa-e7c2-a8a4466a67f5"
      },
      "source": [
        "str1 = 'This is a string'\n",
        "str2 = \"This is also a string\"\n",
        "str3 = str(12.34)\n",
        "\n",
        "# print(str1[0])   \n",
        "# print(str3[2])      \n",
        "# print(str1[6:11])    \n",
        "# print(str2[-4:-1])   # Take all BUT the lase character\n",
        "# print(str3[-4:])     # Take all INCLUDING the lase character\n",
        "# print(str1[:6])  \n",
        "# print(str1[5:2])     # Backwards indexing returns an empty string"
      ],
      "execution_count": null,
      "outputs": [
        {
          "output_type": "stream",
          "name": "stdout",
          "text": [
            "\n"
          ]
        }
      ]
    },
    {
      "cell_type": "markdown",
      "metadata": {
        "id": "aGQCslE2Zplt"
      },
      "source": [
        "## Common operations"
      ]
    },
    {
      "cell_type": "markdown",
      "metadata": {
        "id": "z3kDHw8gZplt"
      },
      "source": [
        "Like any data type, strings support several operations. Being sequences as well, strings support also sequence operations.\n",
        "\n",
        "* Sequence types:\n",
        "    * the `len()` function - returns the length of the sequence\n",
        "    * the `in` operator - test whether an element is within the sequence\n",
        "    * the `+` operator - concatenation of two sequences of the same type\n",
        "    * the `index()` method - returns the index of an element within the sequence\n",
        "    * the `count()` method - counts the number of occurrences of an element within the sequence\n",
        "* Strings\n",
        "    * the method `replace(old, new)` - returns a new string in which all the occurrences of `old` are replaced with `new`\n",
        "    * the method `find(sub)` - returns the index of sub within a given string. Returns -1 if `sub` is not in the calling string.\n",
        "    * the methods `upper()` and `lower()` - return a new string with the same letters as the original, but with all the letters in uppercase or lowercase\n"
      ]
    },
    {
      "cell_type": "markdown",
      "metadata": {
        "id": "hY6mz_geZplu"
      },
      "source": [
        "> **Note:** Later in the course, in the [chapter about object-oriented programming](https://drive.google.com/drive/folders/1tvtiiU0hd5kgkCzIHx0xFK78g7wzJDys?usp=sharing), we will understand the exact differene between operators, functions and methods. In the meantime we just need to pay attention to the \"dot\" syntax, where `obj.app(arg)` means that the object `obj` applies the method `app()` on the argument `arg`."
      ]
    },
    {
      "cell_type": "markdown",
      "metadata": {
        "id": "diLJGl9rWiZJ"
      },
      "source": [
        "### Illustration"
      ]
    },
    {
      "cell_type": "code",
      "metadata": {
        "id": "SeJeeJ9DZplv"
      },
      "source": [
        "str1 = 'Made in Israel'"
      ],
      "execution_count": null,
      "outputs": []
    },
    {
      "cell_type": "code",
      "metadata": {
        "id": "R9VSZmmAZplx",
        "colab": {
          "base_uri": "https://localhost:8080/"
        },
        "outputId": "d79f48d4-9874-4faa-8c40-1f39dd1e693d"
      },
      "source": [
        "print(len(str1))"
      ],
      "execution_count": null,
      "outputs": [
        {
          "output_type": "stream",
          "name": "stdout",
          "text": [
            "14\n"
          ]
        }
      ]
    },
    {
      "cell_type": "code",
      "metadata": {
        "id": "9Uc-HJimZpl2",
        "colab": {
          "base_uri": "https://localhost:8080/"
        },
        "outputId": "f844e4a9-b81c-48be-ad09-1ce01a927579"
      },
      "source": [
        "print('a' in str1)\n",
        "print('in' in str1)\n",
        "print('In' in str1)"
      ],
      "execution_count": null,
      "outputs": [
        {
          "output_type": "stream",
          "name": "stdout",
          "text": [
            "True\n",
            "True\n",
            "False\n"
          ]
        }
      ]
    },
    {
      "cell_type": "code",
      "metadata": {
        "id": "I6yULa6rZpl4",
        "colab": {
          "base_uri": "https://localhost:8080/"
        },
        "outputId": "b1afd90e-3155-4be4-b715-03713c6692e9"
      },
      "source": [
        "str2 = str1[0:8] + \"China\"\n",
        "print(str2)"
      ],
      "execution_count": null,
      "outputs": [
        {
          "output_type": "stream",
          "name": "stdout",
          "text": [
            "Made in China\n"
          ]
        }
      ]
    },
    {
      "cell_type": "code",
      "metadata": {
        "id": "2inZCGdzZpl6",
        "colab": {
          "base_uri": "https://localhost:8080/"
        },
        "outputId": "a604a653-9f07-4643-cf9e-eff45979c1c4"
      },
      "source": [
        "# print(str1.count('a'))\n",
        "print(str1.index('in'))\n",
        "print(str1.find('In'))"
      ],
      "execution_count": null,
      "outputs": [
        {
          "output_type": "stream",
          "name": "stdout",
          "text": [
            "5\n",
            "-1\n"
          ]
        }
      ]
    },
    {
      "cell_type": "code",
      "metadata": {
        "colab": {
          "base_uri": "https://localhost:8080/",
          "height": 35
        },
        "id": "FhRFJzyt_DT-",
        "outputId": "e285208a-1506-4245-faf7-d1c2221c77f5"
      },
      "source": [
        "str2.lower()"
      ],
      "execution_count": null,
      "outputs": [
        {
          "output_type": "execute_result",
          "data": {
            "text/plain": [
              "'made in china'"
            ],
            "application/vnd.google.colaboratory.intrinsic+json": {
              "type": "string"
            }
          },
          "metadata": {},
          "execution_count": 37
        }
      ]
    },
    {
      "cell_type": "markdown",
      "metadata": {
        "id": "4XxSVraPZpl_"
      },
      "source": [
        "## Immutability"
      ]
    },
    {
      "cell_type": "markdown",
      "metadata": {
        "id": "6dY3g6K9Zpl_"
      },
      "source": [
        "A string cannot be changed after its creation, and the only way to produce new strings objects from it is by ceating new ones. This is a very important feature of the string data type, and we say that strings are **immutable**. During the course we will see the importance of this characteristic and compare it to other data types. \n",
        "\n",
        "What happens when we execute the _replace()_ method on the string _str1_?"
      ]
    },
    {
      "cell_type": "code",
      "metadata": {
        "id": "d7iImpf-_2XN"
      },
      "source": [
        "str2 = str1.replace('Israel', 'China')"
      ],
      "execution_count": null,
      "outputs": []
    },
    {
      "cell_type": "code",
      "metadata": {
        "colab": {
          "base_uri": "https://localhost:8080/",
          "height": 35
        },
        "id": "DxSJxBAu__L0",
        "outputId": "3c166b2e-4379-43b0-aeb1-577640fce764"
      },
      "source": [
        "str1"
      ],
      "execution_count": null,
      "outputs": [
        {
          "output_type": "execute_result",
          "data": {
            "text/plain": [
              "'Made in Israel'"
            ],
            "application/vnd.google.colaboratory.intrinsic+json": {
              "type": "string"
            }
          },
          "metadata": {},
          "execution_count": 40
        }
      ]
    },
    {
      "cell_type": "code",
      "metadata": {
        "id": "fcpGzQnCZpmB",
        "colab": {
          "base_uri": "https://localhost:8080/"
        },
        "outputId": "4850734d-10f4-4485-cf0e-0aafd0e3eed6"
      },
      "source": [
        "str1 = str1.replace('Israel', 'China')\n",
        "print(str1)"
      ],
      "execution_count": null,
      "outputs": [
        {
          "output_type": "stream",
          "name": "stdout",
          "text": [
            "Made in China\n"
          ]
        }
      ]
    },
    {
      "cell_type": "markdown",
      "metadata": {
        "id": "ip-Pzg8pZpmD"
      },
      "source": [
        "**Nothing!** Since strings are immutable, _str1_ cannot be modified, and therefore the result of the _replace_ method actually creates a new string, which can be assigned to a new variable, e.g. _str2_."
      ]
    },
    {
      "cell_type": "code",
      "metadata": {
        "id": "xZAbJyu1ZpmD",
        "colab": {
          "base_uri": "https://localhost:8080/"
        },
        "outputId": "850e1a3b-e8e0-4d85-e7a0-a97279ff4d6a"
      },
      "source": [
        "str2 = str1.replace('Israel', 'China')\n",
        "print(str1)\n",
        "print(str2)"
      ],
      "execution_count": null,
      "outputs": [
        {
          "output_type": "stream",
          "name": "stdout",
          "text": [
            "Made in Israel\n",
            "Made in China\n"
          ]
        }
      ]
    },
    {
      "cell_type": "markdown",
      "metadata": {
        "id": "NL2XOuzdZpmF"
      },
      "source": [
        "The immutability of strings can be also demonstrated by the error raised when we try to use the indexation for assignment."
      ]
    },
    {
      "cell_type": "code",
      "metadata": {
        "id": "oxsT-hgAZpmG",
        "colab": {
          "base_uri": "https://localhost:8080/",
          "height": 165
        },
        "outputId": "c200a71f-1161-4ef0-e2e2-ff47269b32fd"
      },
      "source": [
        "str1[8:] = 'China'"
      ],
      "execution_count": null,
      "outputs": [
        {
          "output_type": "error",
          "ename": "TypeError",
          "evalue": "ignored",
          "traceback": [
            "\u001b[0;31m---------------------------------------------------------------------------\u001b[0m",
            "\u001b[0;31mTypeError\u001b[0m                                 Traceback (most recent call last)",
            "\u001b[0;32m<ipython-input-43-4eb6c164aa62>\u001b[0m in \u001b[0;36m<module>\u001b[0;34m()\u001b[0m\n\u001b[0;32m----> 1\u001b[0;31m \u001b[0mstr1\u001b[0m\u001b[0;34m[\u001b[0m\u001b[0;36m8\u001b[0m\u001b[0;34m:\u001b[0m\u001b[0;34m]\u001b[0m \u001b[0;34m=\u001b[0m \u001b[0;34m'China'\u001b[0m\u001b[0;34m\u001b[0m\u001b[0;34m\u001b[0m\u001b[0m\n\u001b[0m",
            "\u001b[0;31mTypeError\u001b[0m: 'str' object does not support item assignment"
          ]
        }
      ]
    },
    {
      "cell_type": "markdown",
      "metadata": {
        "id": "BK5Zo_59dHnJ"
      },
      "source": [
        "> **Reference:** More about the mutability concept and other related functionalities can be found [in Ventsislav Yordanov's Medium article](https://towardsdatascience.com/https-towardsdatascience-com-python-basics-mutable-vs-immutable-objects-829a0cb1530a)."
      ]
    },
    {
      "cell_type": "markdown",
      "metadata": {
        "id": "6FALV8qNZpmK"
      },
      "source": [
        "## String literals"
      ]
    },
    {
      "cell_type": "code",
      "source": [
        "?print"
      ],
      "metadata": {
        "id": "Sfhjl74vCrDi"
      },
      "execution_count": null,
      "outputs": []
    },
    {
      "cell_type": "markdown",
      "metadata": {
        "id": "nFzesHVZZpmL"
      },
      "source": [
        "String literals are auxiliary strings that allow to use characters which are either invisible or raise technical issues when used. To symbolize these characters, you havee to use  the backslash **escape character** (\\\\). The full list of string literals can be found [here][String literals], and the following are the most common:\n",
        "\n",
        "* \\\\n - New line\n",
        "* \\\\t - Tab\n",
        "* \\\\' - Single quote\n",
        "* \\\\\" - Double quote\n",
        "* \\\\\\\\ - Backslash\n",
        "\n",
        "[String literals]: https://docs.python.org/3/reference/lexical_analysis.html#literals \"Python documentation for string literals\""
      ]
    },
    {
      "cell_type": "code",
      "metadata": {
        "colab": {
          "base_uri": "https://localhost:8080/"
        },
        "id": "FCLU2mtuBw8f",
        "outputId": "3fc006c1-a6aa-4516-d11d-e0700989aa91"
      },
      "source": [
        "print('I\"m')"
      ],
      "execution_count": null,
      "outputs": [
        {
          "output_type": "stream",
          "name": "stdout",
          "text": [
            "I\"m\n"
          ]
        }
      ]
    },
    {
      "cell_type": "markdown",
      "metadata": {
        "id": "uwiJl8OFYL0t"
      },
      "source": [
        "> **Note:** The escape character is part of the string."
      ]
    },
    {
      "cell_type": "markdown",
      "metadata": {
        "id": "JflZeRDkYlM1"
      },
      "source": [
        "### Illustrations"
      ]
    },
    {
      "cell_type": "code",
      "metadata": {
        "id": "kXCScrSDZpmO",
        "colab": {
          "base_uri": "https://localhost:8080/"
        },
        "outputId": "5b1aadb3-4cf3-412b-d864-0a3923373604"
      },
      "source": [
        "print('First line.\\nSecond line.')"
      ],
      "execution_count": null,
      "outputs": [
        {
          "output_type": "stream",
          "name": "stdout",
          "text": [
            "First line.\n",
            "Second line.\n"
          ]
        }
      ]
    },
    {
      "cell_type": "code",
      "metadata": {
        "id": "qB1uuqOOZpmR",
        "colab": {
          "base_uri": "https://localhost:8080/"
        },
        "outputId": "d950e1c6-b462-4821-853a-4472b69ef4cf"
      },
      "source": [
        "print('Israel\\t:\\tJerusalem\\nSpain\\t:\\t?\\n')\n",
        "print('(a) Paris\\t(b) Rome\\t(c) Madrid\\t(d) Berlin')"
      ],
      "execution_count": null,
      "outputs": [
        {
          "output_type": "stream",
          "name": "stdout",
          "text": [
            "Israel\t:\tJerusalem\n",
            "Spain\t:\t?\n",
            "\n",
            "(a) Paris\t(b) Rome\t(c) Madrid\t(d) Berlin\n"
          ]
        }
      ]
    },
    {
      "cell_type": "code",
      "metadata": {
        "id": "tVsp96fwZpmW",
        "colab": {
          "base_uri": "https://localhost:8080/"
        },
        "outputId": "ce365d08-7b13-485a-b1ac-e830ac38cb76"
      },
      "source": [
        "print('He is John') \n",
        "print('He\\'s John') "
      ],
      "execution_count": null,
      "outputs": [
        {
          "output_type": "stream",
          "name": "stdout",
          "text": [
            "He is John\n",
            "He's John\n"
          ]
        }
      ]
    },
    {
      "cell_type": "markdown",
      "metadata": {
        "id": "63Swk4ElZpmZ"
      },
      "source": [
        "The existance of two string wrappers enables the following trick..."
      ]
    },
    {
      "cell_type": "code",
      "metadata": {
        "id": "YeTsK29PZpma",
        "colab": {
          "base_uri": "https://localhost:8080/"
        },
        "outputId": "ff5f3e6e-f40a-4b20-a65c-ffa1173faf68"
      },
      "source": [
        "# print('And god said: There was light')\n",
        "# print('And god said: \\\"There was light\\\"')\n",
        "# print (\"And god said: \"There was light\"\")  # This raises an error\n",
        "print('And god said: \"There was light\"')"
      ],
      "execution_count": null,
      "outputs": [
        {
          "output_type": "stream",
          "name": "stdout",
          "text": [
            "And god said: \"There was light\"\n"
          ]
        }
      ]
    },
    {
      "cell_type": "markdown",
      "metadata": {
        "id": "VsOs69KvZpmc"
      },
      "source": [
        "String literals are characters like any other."
      ]
    },
    {
      "cell_type": "code",
      "metadata": {
        "id": "OXzdU0lyZpme",
        "colab": {
          "base_uri": "https://localhost:8080/"
        },
        "outputId": "e54d3598-2667-4c71-c31f-fcc64b3b65c9"
      },
      "source": [
        "len('a\\nb')"
      ],
      "execution_count": null,
      "outputs": [
        {
          "output_type": "execute_result",
          "data": {
            "text/plain": [
              "3"
            ]
          },
          "metadata": {},
          "execution_count": 57
        }
      ]
    },
    {
      "cell_type": "code",
      "metadata": {
        "colab": {
          "base_uri": "https://localhost:8080/"
        },
        "id": "NjZjSltKEwHf",
        "outputId": "47b9490e-6ceb-456f-8b2b-bba7582ca7c0"
      },
      "source": [
        "print('a\\nb')"
      ],
      "execution_count": null,
      "outputs": [
        {
          "output_type": "stream",
          "name": "stdout",
          "text": [
            "a\n",
            "b\n"
          ]
        }
      ]
    },
    {
      "cell_type": "markdown",
      "metadata": {
        "id": "cFJCM2eZcVnA"
      },
      "source": [
        "> **Your turn:** Print the following text in a more readable fashion with proper newlines and tabs."
      ]
    },
    {
      "cell_type": "code",
      "metadata": {
        "id": "R18-eDMUurYI",
        "colab": {
          "base_uri": "https://localhost:8080/",
          "height": 34
        },
        "outputId": "f551e477-5952-46f2-d42e-4fa7b85a9b9d"
      },
      "source": [
        "s = 'Sunday: visitors: 20, unique: 13, Monday: visitors: 25, unique: 14, Tuesday: visitors: 31, unique: 19'\n",
        "print(s)"
      ],
      "execution_count": null,
      "outputs": [
        {
          "output_type": "stream",
          "text": [
            "Sunday: visitors: 20, unique: 13, Monday: visitors: 25, unique: 14, Tuesday: visitors: 31, unique: 19\n"
          ],
          "name": "stdout"
        }
      ]
    },
    {
      "cell_type": "markdown",
      "metadata": {
        "id": "9hY3WvHzZpmk"
      },
      "source": [
        "## multi-lines string\n",
        "\n",
        "String can also be wrapped with three characters, using either single-quote or double-quote, allowing to write text with quotes and new lines as you normally do:"
      ]
    },
    {
      "cell_type": "code",
      "metadata": {
        "id": "oZTeYe1FZpmk"
      },
      "source": [
        "text = '''A String warpped with triple quotes can extend over\n",
        "multiple lines like this one, and can contain 'single'\n",
        "and \"double\" quotes without using string literals.'''\n",
        "\n",
        "print(text)"
      ],
      "execution_count": null,
      "outputs": []
    },
    {
      "cell_type": "markdown",
      "metadata": {
        "id": "P7dE-Rd-Zpmn"
      },
      "source": [
        "## Conversions"
      ]
    },
    {
      "cell_type": "markdown",
      "metadata": {
        "id": "6wl_QU6QZpmp"
      },
      "source": [
        "Strings can be concatenated, but this may get a little bit tricky when combined with other data types."
      ]
    },
    {
      "cell_type": "code",
      "metadata": {
        "id": "bvY8RyNmZpmp"
      },
      "source": [
        "num1, num2 = 1234, 4321\n",
        "the_sum = num1 + num2"
      ],
      "execution_count": null,
      "outputs": []
    },
    {
      "cell_type": "code",
      "metadata": {
        "id": "P2NVwCf1Zpmr",
        "colab": {
          "base_uri": "https://localhost:8080/"
        },
        "outputId": "0409fa50-a8d3-4966-88ee-60469666888a"
      },
      "source": [
        "print('The sum of', num1, 'and', num2, 'is', the_sum)"
      ],
      "execution_count": null,
      "outputs": [
        {
          "output_type": "stream",
          "name": "stdout",
          "text": [
            "The sum of 1234 and 4321 is 5555\n"
          ]
        }
      ]
    },
    {
      "cell_type": "markdown",
      "metadata": {
        "id": "1VYiONx-Zp0z"
      },
      "source": [
        "> **Note:** The `print()` function does not concatenate strings, but rather print them one by one, adding a white space between them."
      ]
    },
    {
      "cell_type": "code",
      "metadata": {
        "id": "qBF9BDgHZpmu",
        "colab": {
          "base_uri": "https://localhost:8080/",
          "height": 165
        },
        "outputId": "8f4dbe83-6b0e-4870-9f08-844cf1b06350"
      },
      "source": [
        "sentence = 'The sum of ' + num1 + ' and ' + num2 + ' is ' + the_sum"
      ],
      "execution_count": null,
      "outputs": [
        {
          "output_type": "error",
          "ename": "TypeError",
          "evalue": "ignored",
          "traceback": [
            "\u001b[0;31m---------------------------------------------------------------------------\u001b[0m",
            "\u001b[0;31mTypeError\u001b[0m                                 Traceback (most recent call last)",
            "\u001b[0;32m<ipython-input-64-772d5b46971d>\u001b[0m in \u001b[0;36m<module>\u001b[0;34m()\u001b[0m\n\u001b[0;32m----> 1\u001b[0;31m \u001b[0msentence\u001b[0m \u001b[0;34m=\u001b[0m \u001b[0;34m'The sum of '\u001b[0m \u001b[0;34m+\u001b[0m \u001b[0mnum1\u001b[0m \u001b[0;34m+\u001b[0m \u001b[0;34m' and '\u001b[0m \u001b[0;34m+\u001b[0m \u001b[0mnum2\u001b[0m \u001b[0;34m+\u001b[0m \u001b[0;34m' is '\u001b[0m \u001b[0;34m+\u001b[0m \u001b[0mthe_sum\u001b[0m\u001b[0;34m\u001b[0m\u001b[0;34m\u001b[0m\u001b[0m\n\u001b[0m",
            "\u001b[0;31mTypeError\u001b[0m: can only concatenate str (not \"int\") to str"
          ]
        }
      ]
    },
    {
      "cell_type": "code",
      "metadata": {
        "id": "l7FJZ-vmZpmz",
        "colab": {
          "base_uri": "https://localhost:8080/"
        },
        "outputId": "95c032bf-fd9a-4c51-a488-c4a31e529d62"
      },
      "source": [
        "sentence = 'The sum of ' + str(num1) + ' and ' + str(num2) + ' is ' + str(the_sum)\n",
        "print(sentence)"
      ],
      "execution_count": null,
      "outputs": [
        {
          "output_type": "stream",
          "name": "stdout",
          "text": [
            "The sum of 1234 and 4321 is 5555\n"
          ]
        }
      ]
    },
    {
      "cell_type": "markdown",
      "metadata": {
        "id": "V93OclcyZpm1"
      },
      "source": [
        "# Booleans"
      ]
    },
    {
      "cell_type": "markdown",
      "metadata": {
        "id": "51XdUO_XZpm1"
      },
      "source": [
        "Boolean variables can have only _True_ and _False_ values, and they are also called \"binary\" and \"logical\" variables. Boolean variables can be created directly by assigning `True` or `False` to them, however it is much more common to create them with comparisons and tests."
      ]
    },
    {
      "cell_type": "code",
      "metadata": {
        "id": "vzU0fUXHZ8wC",
        "colab": {
          "base_uri": "https://localhost:8080/"
        },
        "outputId": "cb3734b4-fd21-4c81-9a2b-be57cbe9d4b9"
      },
      "source": [
        "is_connected = False\n",
        "type(is_connected)"
      ],
      "execution_count": null,
      "outputs": [
        {
          "output_type": "execute_result",
          "data": {
            "text/plain": [
              "bool"
            ]
          },
          "metadata": {},
          "execution_count": 66
        }
      ]
    },
    {
      "cell_type": "code",
      "metadata": {
        "id": "ob2ddlHNZpm3",
        "colab": {
          "base_uri": "https://localhost:8080/"
        },
        "outputId": "fd7b2d9f-7f90-4cfb-bf5f-ddbb9d220ba7"
      },
      "source": [
        "num1, num2 = 12, 27\n",
        "\n",
        "print(num1 == num2)\n",
        "print(num1 != num2)\n",
        "print(num1 < num2)\n",
        "print(num1 >= num2)"
      ],
      "execution_count": null,
      "outputs": [
        {
          "output_type": "stream",
          "name": "stdout",
          "text": [
            "False\n",
            "True\n",
            "True\n",
            "False\n"
          ]
        }
      ]
    },
    {
      "cell_type": "code",
      "metadata": {
        "id": "HMqDJ-lTZpnA",
        "colab": {
          "base_uri": "https://localhost:8080/"
        },
        "outputId": "8cc01e51-c39c-4968-844c-3489b1fa921d"
      },
      "source": [
        "str1 = 'Python'\n",
        "\n",
        "print('p' in str1)\n",
        "print(str1[3:5] == 'ho')"
      ],
      "execution_count": null,
      "outputs": [
        {
          "output_type": "stream",
          "name": "stdout",
          "text": [
            "False\n",
            "True\n"
          ]
        }
      ]
    },
    {
      "cell_type": "markdown",
      "metadata": {
        "id": "7YJpUW8VZpnE"
      },
      "source": [
        "## Common operations"
      ]
    },
    {
      "cell_type": "markdown",
      "metadata": {
        "id": "bcphdc21ZpnE"
      },
      "source": [
        "Booleans support less known operations, which are:\n",
        "\n",
        "* _not_ - the negative\n",
        "* _and_ / _&_ - return _True_ if and only if both of its sides are _True_\n",
        "* _or_ / _|_ - return _False_ if and only if both of its sides are _False_\n",
        "* _^_ (xor) - return _True_ if and only if exactly one of its sides is _True_"
      ]
    },
    {
      "cell_type": "code",
      "source": [
        "False and False"
      ],
      "metadata": {
        "colab": {
          "base_uri": "https://localhost:8080/"
        },
        "id": "M2VOC6aJHpRi",
        "outputId": "c1263e11-fb67-407a-aab3-44f5e41f481e"
      },
      "execution_count": null,
      "outputs": [
        {
          "output_type": "execute_result",
          "data": {
            "text/plain": [
              "False"
            ]
          },
          "metadata": {},
          "execution_count": 72
        }
      ]
    },
    {
      "cell_type": "code",
      "metadata": {
        "id": "S_j64nLeZpnG",
        "colab": {
          "base_uri": "https://localhost:8080/"
        },
        "outputId": "00967919-85dc-4828-b438-367488a4714b"
      },
      "source": [
        "x, y = True, False\n",
        "\n",
        "print(x)        # True\n",
        "print(not x)    # False\n",
        "print(x & y)    # False\n",
        "print(x and y)  # False\n",
        "print(x | y)    # True\n",
        "print(x or y)   # True\n",
        "print(x ^ y)    # True\n",
        "\n"
      ],
      "execution_count": null,
      "outputs": [
        {
          "output_type": "stream",
          "text": [
            "True\n",
            "False\n",
            "False\n",
            "False\n",
            "True\n",
            "True\n",
            "True\n"
          ],
          "name": "stdout"
        }
      ]
    },
    {
      "cell_type": "markdown",
      "metadata": {
        "id": "mRfQVFceZpnI"
      },
      "source": [
        "## Illustration"
      ]
    },
    {
      "cell_type": "code",
      "metadata": {
        "id": "XuLIDGRFZpnI"
      },
      "source": [
        "avg_height, avg_weight = 1.79, 75\n",
        "my_height, my_weight = 1.77, 85"
      ],
      "execution_count": null,
      "outputs": []
    },
    {
      "cell_type": "code",
      "metadata": {
        "id": "hZpXC0XLZpnK",
        "colab": {
          "base_uri": "https://localhost:8080/"
        },
        "outputId": "eb29822b-0a1a-4c47-9d70-5be3f7a63eab"
      },
      "source": [
        "am_i_tall = my_height >= avg_height\n",
        "print(am_i_tall)"
      ],
      "execution_count": null,
      "outputs": [
        {
          "output_type": "stream",
          "name": "stdout",
          "text": [
            "False\n"
          ]
        }
      ]
    },
    {
      "cell_type": "code",
      "metadata": {
        "id": "LIPR3k-kZpnP",
        "colab": {
          "base_uri": "https://localhost:8080/"
        },
        "outputId": "dce82760-3f0b-4033-e258-14d44aeedd64"
      },
      "source": [
        "am_i_fat = my_weight >= avg_weight\n",
        "print(am_i_fat)"
      ],
      "execution_count": null,
      "outputs": [
        {
          "output_type": "stream",
          "name": "stdout",
          "text": [
            "True\n"
          ]
        }
      ]
    },
    {
      "cell_type": "code",
      "metadata": {
        "id": "1gsEdXjsZpnQ",
        "colab": {
          "base_uri": "https://localhost:8080/"
        },
        "outputId": "ca1e8d8a-f014-4e23-db80-7835b5ac2f85"
      },
      "source": [
        "am_i_giant = am_i_tall and am_i_fat\n",
        "print(am_i_giant)"
      ],
      "execution_count": null,
      "outputs": [
        {
          "output_type": "stream",
          "name": "stdout",
          "text": [
            "False\n"
          ]
        }
      ]
    },
    {
      "cell_type": "code",
      "metadata": {
        "id": "5PK7vQbIZpnT",
        "colab": {
          "base_uri": "https://localhost:8080/"
        },
        "outputId": "b93488cf-ed4d-48bb-d36d-5a9b2369fa33"
      },
      "source": [
        "am_i_chubby = am_i_fat and not am_i_tall\n",
        "print(am_i_chubby)"
      ],
      "execution_count": null,
      "outputs": [
        {
          "output_type": "stream",
          "name": "stdout",
          "text": [
            "True\n"
          ]
        }
      ]
    },
    {
      "cell_type": "markdown",
      "source": [
        ""
      ],
      "metadata": {
        "id": "3nMPPiXL650G"
      }
    },
    {
      "cell_type": "code",
      "metadata": {
        "id": "i8L2HPdvZpnW",
        "colab": {
          "base_uri": "https://localhost:8080/"
        },
        "outputId": "b2db08dd-5548-40b3-c049-6aedea0737a2"
      },
      "source": [
        "am_i_abnormal_1 = (am_i_fat and not am_i_tall) or (am_i_tall and not am_i_fat)\n",
        "am_i_abnormal_2 = am_i_fat ^ am_i_tall\n",
        "print(am_i_abnormal_1, am_i_abnormal_2)"
      ],
      "execution_count": null,
      "outputs": [
        {
          "output_type": "stream",
          "name": "stdout",
          "text": [
            "True True\n"
          ]
        }
      ]
    },
    {
      "cell_type": "markdown",
      "metadata": {
        "id": "LJDgl2aCf8Xw"
      },
      "source": [
        "> **Note:** In addition to simple Booleans, Python allows [Truth-value testing](https://docs.python.org/3/library/stdtypes.html#truth-value-testing) with non-Boolean variables."
      ]
    },
    {
      "cell_type": "markdown",
      "metadata": {
        "id": "CKJUztSBbQPG"
      },
      "source": [
        "# Exercises"
      ]
    },
    {
      "cell_type": "markdown",
      "metadata": {
        "id": "mI4vqvZAZpnY"
      },
      "source": [
        "## Exercise 1"
      ]
    },
    {
      "cell_type": "markdown",
      "metadata": {
        "id": "SuEaELXEZpnY"
      },
      "source": [
        "1. Assign your height in meters to a variable called _height_ and your weight in kilograms to a variable called _weight_.\n",
        "2. Calculate your BMI and assign the value to a variable called BMI. ($BMI=\\frac{w}{h^2}$)\n",
        "3. Print the sentence \"My height is \\_\\_\\_ meters, my weight is \\_\\_\\_ Kgs, and my BMI is \\_\\_\\_.”.\n",
        "4. Print the sentence, so that each part of it will be in a new line."
      ]
    },
    {
      "cell_type": "markdown",
      "metadata": {
        "id": "ejzMds0jeF-B"
      },
      "source": [
        "### Solution"
      ]
    },
    {
      "cell_type": "code",
      "metadata": {
        "id": "Chg8RCxQeAcF"
      },
      "source": [
        "Weight, Height = 104, 1.77"
      ],
      "execution_count": null,
      "outputs": []
    },
    {
      "cell_type": "code",
      "metadata": {
        "id": "oi9k_0YHeAcJ"
      },
      "source": [
        "BMI = Weight / Height**2"
      ],
      "execution_count": null,
      "outputs": []
    },
    {
      "cell_type": "code",
      "metadata": {
        "id": "C5OnNAFbeAcL"
      },
      "source": [
        "print(\"My height is \" + str(Height) + \" meters, my weight is \" + str(Weight) + \" Kgs, and my BMI is \" + str(BMI) + \".\")"
      ],
      "execution_count": null,
      "outputs": []
    },
    {
      "cell_type": "code",
      "metadata": {
        "id": "eEGCXdP-eAcP"
      },
      "source": [
        "print(\"My height is \" + str(Height) + \" meters,\\nmy Weight is \" + str(Weight) + \" Kgs,\\nand my BMI is \" + str(BMI) + \".\")"
      ],
      "execution_count": null,
      "outputs": []
    },
    {
      "cell_type": "markdown",
      "metadata": {
        "id": "3dnMRXTCZpnZ"
      },
      "source": [
        "## Exercise 2"
      ]
    },
    {
      "cell_type": "markdown",
      "metadata": {
        "id": "QEwNL5yHZpnZ"
      },
      "source": [
        "1. Assign your first name and your last name to the variables _first_\\__name_ and _last_\\__name_, respectively.\n",
        "2. How many letters does your full name have?\n",
        "3. Create your full name by concatenating _first_\\__name_ and _first_\\__name_ with a space in the middle, and assign the result to a variable called _full_\\__name_.\n",
        "4. Use the string method _replace()_ to change all the vowels in your full name from lower case to upper case. (Vowels are the letters 'a', 'e', 'i', 'o' & 'u')\n",
        "\n",
        "    * Note that you are not allowed to use the _for_ syntax at the moment."
      ]
    },
    {
      "cell_type": "markdown",
      "metadata": {
        "id": "MK4QOmszeMtL"
      },
      "source": [
        "### Solution"
      ]
    },
    {
      "cell_type": "code",
      "metadata": {
        "id": "teoRycOTeAcT"
      },
      "source": [
        "first_name, last_name = 'Avi', 'Yashar'"
      ],
      "execution_count": null,
      "outputs": []
    },
    {
      "cell_type": "code",
      "metadata": {
        "id": "91-gGkUneAcW"
      },
      "source": [
        "print(len(first_name) + len(last_name))"
      ],
      "execution_count": null,
      "outputs": []
    },
    {
      "cell_type": "code",
      "metadata": {
        "id": "M8n0ARqjeAcY"
      },
      "source": [
        "full_name = first_name + ' ' + last_name"
      ],
      "execution_count": null,
      "outputs": []
    },
    {
      "cell_type": "code",
      "metadata": {
        "id": "JmMO6bMEeAcb"
      },
      "source": [
        "upper_aeiou_name = full_name.replace('a','A').replace('e', 'E').replace('i', 'I').replace('o', 'O').replace('u', 'U')\n",
        "print(upper_aeiou_name)"
      ],
      "execution_count": null,
      "outputs": []
    },
    {
      "cell_type": "markdown",
      "metadata": {
        "id": "VmOaI08_Zpna"
      },
      "source": [
        "## Exercise 3"
      ]
    },
    {
      "cell_type": "markdown",
      "metadata": {
        "id": "pooPas4HZpna"
      },
      "source": [
        "Define proper variables with the following data for yourself and for one of your imaginary friends: gender (string), age (int), city (string) and marital status (Boolean). Then create the following Boolean variables:\n",
        "\n",
        "1. `same_city` – do both of you live in the same city?\n",
        "2. `is_older` – is your friend older than you?\n",
        "3. `diff_gender` – are you from different genders?\n",
        "4. `both_married` – are you both married?"
      ]
    },
    {
      "cell_type": "markdown",
      "metadata": {
        "id": "fqgy3sjreYlH"
      },
      "source": [
        "### Solution"
      ]
    },
    {
      "cell_type": "code",
      "metadata": {
        "id": "6-Jg2tmbeAce"
      },
      "source": [
        "my_gender, other_gender = 'M', 'F'\n",
        "my_age, other_age = 33, 29\n",
        "my_city, other_city = 'Kfar-saba', 'Kfar-saba'\n",
        "my_marriage, other_marriage = True, False"
      ],
      "execution_count": null,
      "outputs": []
    },
    {
      "cell_type": "code",
      "metadata": {
        "id": "YoNzdV4weAch"
      },
      "source": [
        "same_city = my_city == other_city"
      ],
      "execution_count": null,
      "outputs": []
    },
    {
      "cell_type": "code",
      "metadata": {
        "id": "ImJNyU0feAck"
      },
      "source": [
        "is_older = other_age > my_age"
      ],
      "execution_count": null,
      "outputs": []
    },
    {
      "cell_type": "code",
      "metadata": {
        "id": "QMRjMsAxeAcn"
      },
      "source": [
        "diff_gender1 = (my_gender == 'M' and other_gender == 'F') or \\\n",
        "                   (my_gender == 'F' and other_gender == 'M')\n",
        "diff_gender2 = my_gender != other_gender\n",
        "diff_gender3 = not(my_gender == other_gender)"
      ],
      "execution_count": null,
      "outputs": []
    },
    {
      "cell_type": "code",
      "metadata": {
        "id": "uEZnbzZreAcp"
      },
      "source": [
        "both_married = my_marriage & other_marriage"
      ],
      "execution_count": null,
      "outputs": []
    }
  ]
}